{
 "cells": [
  {
   "cell_type": "code",
   "execution_count": null,
   "id": "8f77cc4c",
   "metadata": {},
   "outputs": [],
   "source": [
    "import matplotlib.pyplot as plt\n",
    "import matplotlib.image as mpimg\n",
    "\n",
    "# Load an image (make sure cat.jpg is in the same folder!)\n",
    "img = mpimg.imread(\"cat.jpg\")\n",
    "\n",
    "# Show the image\n",
    "plt.imshow(img)\n",
    "plt.axis(\"off\")  # removes the numbers around\n",
    "plt.show()\n"
   ]
  },
  {
   "cell_type": "code",
   "execution_count": null,
   "id": "0f2b2caa",
   "metadata": {},
   "outputs": [],
   "source": []
  }
 ],
 "metadata": {
  "kernelspec": {
   "display_name": "Python 3",
   "language": "python",
   "name": "python3"
  },
  "language_info": {
   "name": "python",
   "version": "3.13.6"
  }
 },
 "nbformat": 4,
 "nbformat_minor": 5
}
