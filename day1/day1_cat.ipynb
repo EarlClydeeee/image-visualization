{
 "cells": [
  {
   "cell_type": "markdown",
   "id": "1a0a68cd",
   "metadata": {},
   "source": [
    "import matplotlib.pyplot as plt\n",
    "import matplotlib.image as mpimg\n",
    "\n",
    "# Load an image\n",
    "img = mpimg.imread(\"cat.jpg\")\n",
    "\n",
    "# Show the image\n",
    "plt.imshow(img)\n",
    "plt.axis(\"off\")  # removes the numbers around\n",
    "plt.show()\n"
   ]
  },
  {
   "cell_type": "markdown",
   "id": "f5df84c0",
   "metadata": {},
   "source": [
    "import cv2\n",
    "\n",
    "gray = cv2.cvtColor(img, cv2.COLOR_RGB2GRAY)\n",
    "plt.imshow(gray, cmap=\"gray\")\n",
    "plt.axis(\"off\")\n",
    "plt.show()\n"
   ]
  },
  {
   "cell_type": "markdown",
   "id": "be7185dd",
   "metadata": {},
   "source": [
    "small = cv2.resize(img, (100, 100))\n",
    "plt.imshow(small)\n",
    "plt.axis(\"off\")\n",
    "plt.show()\n"
   ]
  },
  {
   "cell_type": "markdown",
   "id": "11b3ecf6",
   "metadata": {},
   "source": []
  }
 ],
 "metadata": {
  "language_info": {
   "name": "python"
  }
 },
 "nbformat": 4,
 "nbformat_minor": 5
}
